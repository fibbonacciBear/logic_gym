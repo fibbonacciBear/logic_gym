{
 "cells": [
  {
   "cell_type": "code",
   "execution_count": null,
   "metadata": {},
   "outputs": [],
   "source": [
    "# Open the 1 hop dataset file\n",
    "\n",
    "# Read problem 1\n",
    "\n",
    "# Print\n",
    "# 1. NL Problem\n",
    "# 2. NL Question\n",
    "# 3. Flip formalization\n",
    "# 4. Flip Proof\n",
    "\n",
    "# Manually add Flip => NL example\n",
    "\n",
    "# This is the one shot example for GPT"
   ]
  },
  {
   "cell_type": "code",
   "execution_count": null,
   "metadata": {},
   "outputs": [],
   "source": []
  }
 ],
 "metadata": {
  "kernelspec": {
   "display_name": "fol",
   "language": "python",
   "name": "python3"
  },
  "language_info": {
   "codemirror_mode": {
    "name": "ipython",
    "version": 3
   },
   "file_extension": ".py",
   "mimetype": "text/x-python",
   "name": "python",
   "nbconvert_exporter": "python",
   "pygments_lexer": "ipython3",
   "version": "3.11.9"
  }
 },
 "nbformat": 4,
 "nbformat_minor": 2
}
